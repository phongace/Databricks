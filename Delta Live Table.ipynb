{
 "cells": [
  {
   "cell_type": "code",
   "execution_count": null,
   "metadata": {},
   "outputs": [],
   "source": [
    "%sql\n",
    "-- 1. Bảng RAW: orders_raw (streaming từ parquet)\n",
    "\n",
    "CREATE OR REFRESH STREAMING LIVE TABLE orders_raw\n",
    "COMMENT \"The raw orders data, ingested from parquet files.\"\n",
    "AS SELECT * \n",
    "FROM cloud_files(\"${datasets.path}/orders\", \"parquet\", map(\"cloudFiles.inferColumnTypes\", \"true\"));\n",
    "\n",
    "-- 2. Bảng RAW: customers (streaming từ JSON)\n",
    "\n",
    "CREATE OR REFRESH STREAMING LIVE TABLE customers_raw\n",
    "COMMENT \"The raw customers data, ingested from JSON files.\"\n",
    "AS SELECT * \n",
    "FROM cloud_files(\"${datasets.path}/customers\", \"json\", map(\"cloudFiles.inferColumnTypes\", \"true\"));\n",
    "\n",
    "-- 3. Bảng cleaned: orders_cleaned\n",
    "\n",
    "CREATE OR REFRESH LIVE TABLE orders_cleaned\n",
    "COMMENT \"Cleaned orders data with non-null order_id and positive quantity\"\n",
    "AS SELECT * \n",
    "FROM LIVE.orders_raw\n",
    "WHERE order_id IS NOT NULL AND quantity > 0;\n",
    "\n",
    "-- 4. Bảng final: enriched_orders\n",
    "\n",
    "CREATE OR REFRESH LIVE TABLE enriched_orders\n",
    "COMMENT \"Join orders with customer data\"\n",
    "AS SELECT \n",
    "  o.order_id,\n",
    "  o.customer_id,\n",
    "  c.name AS customer_name,\n",
    "  o.quantity,\n",
    "  o.price,\n",
    "  o.order_timestamp\n",
    "FROM LIVE.orders_cleaned o\n",
    "LEFT JOIN LIVE.customers_raw c\n",
    "ON o.customer_id = c.customer_id;"
   ]
  }
 ],
 "metadata": {
  "language_info": {
   "name": "python"
  }
 },
 "nbformat": 4,
 "nbformat_minor": 2
}
