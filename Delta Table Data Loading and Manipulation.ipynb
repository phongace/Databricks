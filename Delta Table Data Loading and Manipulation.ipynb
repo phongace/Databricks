{
 "cells": [
  {
   "cell_type": "code",
   "execution_count": null,
   "metadata": {
    "vscode": {
     "languageId": "plaintext"
    }
   },
   "outputs": [],
   "source": [
    "# Copy the file from the local filesystem to DBFS\n",
    "dbutils.fs.cp(\n",
    "    'file:/Workspace/Users/thaith@smartosc.com/DE-training/DataBricks/Amazon Sale Report.csv',\n",
    "    'dbfs:/Workspace/Users/thaith@smartosc.com/DE-training/DataBricks/Amazon Sale Report.csv'\n",
    ")\n",
    "\n",
    "# Load data to DataFrame\n",
    "data = spark.read.format(\"csv\").option(\"header\", \"true\").load(\n",
    "    \"dbfs:/Workspace/Users/thaith@smartosc.com/DE-training/DataBricks/Amazon Sale Report.csv\"\n",
    ")\n",
    "\n",
    "# Rename columns to remove invalid characters\n",
    "for col in data.columns:\n",
    "    new_col = col.replace(' ', '_').replace(';', '').replace('{', '').replace('}', '').replace('(', '').replace(')', '').replace('\\n', '').replace('\\t', '').replace('=', '')\n",
    "    data = data.withColumnRenamed(col, new_col)\n",
    "\n",
    "# Write data to Delta table\n",
    "data.write.format(\"delta\").mode(\"overwrite\").save(\"dbfs:/delta/amazon_sale_report\")"
   ]
  },
  {
   "cell_type": "code",
   "execution_count": null,
   "metadata": {
    "vscode": {
     "languageId": "plaintext"
    }
   },
   "outputs": [],
   "source": [
    "# Read data from Delta table and display it\n",
    "delta_table = spark.read.format(\"delta\").load(\"dbfs:/delta/amazon_sale_report\")\n",
    "delta_table.display()"
   ]
  },
  {
   "cell_type": "code",
   "execution_count": null,
   "metadata": {
    "vscode": {
     "languageId": "plaintext"
    }
   },
   "outputs": [],
   "source": [
    "\n",
    "# Remove column Unnamed:_22\n",
    "data = data.drop(\"Unnamed:_22\")\n",
    "\n",
    "# Overwrite the Delta table with the updated DataFrame\n",
    "data.write.format(\"delta\").mode(\"overwrite\").save(\"dbfs:/delta/amazon_sale_report\")"
   ]
  },
  {
   "cell_type": "code",
   "execution_count": null,
   "metadata": {
    "vscode": {
     "languageId": "plaintext"
    }
   },
   "outputs": [],
   "source": [
    "# Read data from Delta table and display it\n",
    "display(delta_table)"
   ]
  },
  {
   "cell_type": "code",
   "execution_count": null,
   "metadata": {
    "vscode": {
     "languageId": "plaintext"
    }
   },
   "outputs": [],
   "source": [
    "%fs ls 'dbfs:/delta/amazon_sale_report/_delta_log'"
   ]
  },
  {
   "cell_type": "code",
   "execution_count": null,
   "metadata": {
    "vscode": {
     "languageId": "plaintext"
    }
   },
   "outputs": [],
   "source": [
    "\n",
    "%fs head 'dbfs:/delta/amazon_sale_report/_delta_log/00000000000000000001.json'"
   ]
  },
  {
   "cell_type": "code",
   "execution_count": null,
   "metadata": {
    "vscode": {
     "languageId": "plaintext"
    }
   },
   "outputs": [],
   "source": [
    "\n",
    "# Create a table in the demo_databricks database using the delta_table DataFrame\n",
    "delta_table.write.format(\"delta\").mode(\"overwrite\").saveAsTable(\"demo_databricks.default.delta_table\")"
   ]
  },
  {
   "cell_type": "code",
   "execution_count": null,
   "metadata": {
    "vscode": {
     "languageId": "plaintext"
    }
   },
   "outputs": [],
   "source": [
    "%sql\n",
    "SELECT * FROM demo_databricks.default.delta_table LIMIT 10"
   ]
  },
  {
   "cell_type": "code",
   "execution_count": null,
   "metadata": {
    "vscode": {
     "languageId": "plaintext"
    }
   },
   "outputs": [],
   "source": [
    "%sql\n",
    "DESCRIBE HISTORY delta_table"
   ]
  },
  {
   "cell_type": "code",
   "execution_count": null,
   "metadata": {
    "vscode": {
     "languageId": "plaintext"
    }
   },
   "outputs": [],
   "source": [
    "%sql\n",
    "UPDATE delta_table\n",
    "SET Amount = 0.0\n",
    "WHERE Amount IS NULL;\n",
    "\n",
    "SELECT * FROM delta_table LIMIT 10"
   ]
  },
  {
   "cell_type": "code",
   "execution_count": null,
   "metadata": {
    "vscode": {
     "languageId": "plaintext"
    }
   },
   "outputs": [],
   "source": [
    "\n",
    "%sql\n",
    "CREATE VIEW DressCategoryView AS\n",
    "SELECT *\n",
    "FROM delta_table\n",
    "WHERE Category LIKE '%Dress%'"
   ]
  },
  {
   "cell_type": "code",
   "execution_count": null,
   "metadata": {
    "vscode": {
     "languageId": "plaintext"
    }
   },
   "outputs": [],
   "source": [
    "%sql\n",
    "SELECT * FROM DressCategoryView LIMIT 10"
   ]
  },
  {
   "cell_type": "code",
   "execution_count": null,
   "metadata": {
    "vscode": {
     "languageId": "plaintext"
    }
   },
   "outputs": [],
   "source": [
    "%sql\n",
    "SHOW TABLES"
   ]
  },
  {
   "cell_type": "code",
   "execution_count": null,
   "metadata": {
    "vscode": {
     "languageId": "plaintext"
    }
   },
   "outputs": [],
   "source": [
    "%sql\n",
    "DROP TABLE"
   ]
  }
 ],
 "metadata": {
  "language_info": {
   "name": "python"
  }
 },
 "nbformat": 4,
 "nbformat_minor": 2
}
